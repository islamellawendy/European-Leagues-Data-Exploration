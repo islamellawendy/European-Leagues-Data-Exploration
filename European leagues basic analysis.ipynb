{
 "cells": [
  {
   "cell_type": "markdown",
   "metadata": {},
   "source": [
    "# European leagues basic analysis\n",
    "\n",
    "## Table of Contents\n",
    "<ul>\n",
    "<li><a href=\"#intro\">Introduction</a></li>\n",
    "<li><a href=\"#wrangling\">Data Wrangling</a></li>\n",
    "<li><a href=\"#eda\">Exploratory Data Analysis and Concultions</a></li>\n",
    "</ul>"
   ]
  },
  {
   "cell_type": "markdown",
   "metadata": {},
   "source": [
    "<a id='intro'></a>\n",
    "## Introduction\n",
    "\n",
    "One of the most exciting sports all over the world is football. In this report I am going to use my understanding of the Data Analysis processes onto a provided soccerr database from Kaggle. This database contains all information about a number of European leagues, the matches played between seasons of 2008 and 2016 (leagues only), scores, attributes and player information. \n",
    "\n",
    "I will use this database and create my own datasets for analysis, I will look on specific criteria for comparison and draw conclusions about them. The approach is basic, pose questions around the load of each league (how many matches per season), compare different attribute variables with the number of wins variable from each team, and finally the average weight and height in these european leagues. Questions posed are titled in the EDA section.\n",
    "\n",
    "Q1: How many stages (matches each team played) were played in each league for each season?\n",
    "\n",
    "Q2: How does the team attributes reflect on the number of wins achieved?\n",
    "\n",
    "Q3: Which teams had the most wins and goals scored?\n",
    "\n",
    "Q4: How does the height and weight distribution look like for players in the European league?"
   ]
  },
  {
   "cell_type": "code",
   "execution_count": 1,
   "metadata": {},
   "outputs": [],
   "source": [
    "import numpy as np\n",
    "import pandas as pd\n",
    "%matplotlib inline\n",
    "import sqlite3\n",
    "import seaborn as sns\n",
    "import matplotlib.pyplot as plt"
   ]
  },
  {
   "cell_type": "markdown",
   "metadata": {},
   "source": [
    "<a id='wrangling'></a>\n",
    "## Data Wrangling\n",
    "\n",
    "\n",
    "### General Properties"
   ]
  },
  {
   "cell_type": "markdown",
   "metadata": {},
   "source": [
    "To create a connection to the database, I used the link below to know hoe to run the pandas code for sqlite.\n",
    "https://stackoverflow.com/questions/50996820/how-to-import-a-sqlite3-database-into-python-jupyter-notebook/50999564\n",
    "Afterwards I will want to extract the datasets that I will use in my analysis."
   ]
  },
  {
   "cell_type": "code",
   "execution_count": 2,
   "metadata": {},
   "outputs": [],
   "source": [
    "#import the database to our kernel\n",
    "cnx = sqlite3.connect(r'C:\\Users\\iellawendy\\OneDrive - Infor\\Training\\Data Analyst Nanodegree\\Project02ExploreADataset\\SQLite DB\\database.sqlite')"
   ]
  },
  {
   "cell_type": "code",
   "execution_count": 3,
   "metadata": {},
   "outputs": [
    {
     "data": {
      "text/html": [
       "<div>\n",
       "<style scoped>\n",
       "    .dataframe tbody tr th:only-of-type {\n",
       "        vertical-align: middle;\n",
       "    }\n",
       "\n",
       "    .dataframe tbody tr th {\n",
       "        vertical-align: top;\n",
       "    }\n",
       "\n",
       "    .dataframe thead th {\n",
       "        text-align: right;\n",
       "    }\n",
       "</style>\n",
       "<table border=\"1\" class=\"dataframe\">\n",
       "  <thead>\n",
       "    <tr style=\"text-align: right;\">\n",
       "      <th></th>\n",
       "      <th>name</th>\n",
       "      <th>season</th>\n",
       "      <th>matches</th>\n",
       "    </tr>\n",
       "  </thead>\n",
       "  <tbody>\n",
       "    <tr>\n",
       "      <td>0</td>\n",
       "      <td>Belgium Jupiler League</td>\n",
       "      <td>2008/2009</td>\n",
       "      <td>34</td>\n",
       "    </tr>\n",
       "    <tr>\n",
       "      <td>1</td>\n",
       "      <td>Belgium Jupiler League</td>\n",
       "      <td>2009/2010</td>\n",
       "      <td>30</td>\n",
       "    </tr>\n",
       "  </tbody>\n",
       "</table>\n",
       "</div>"
      ],
      "text/plain": [
       "                     name     season  matches\n",
       "0  Belgium Jupiler League  2008/2009       34\n",
       "1  Belgium Jupiler League  2009/2010       30"
      ]
     },
     "execution_count": 3,
     "metadata": {},
     "output_type": "execute_result"
    }
   ],
   "source": [
    "#I am filtering matches played per season, getting to know if number of matches is consistent as \n",
    "chk = pd.read_sql_query('SELECT name,season, COUNT (DISTINCT stage) AS matches FROM Match JOIN League ON Match.league_id = League.id GROUP BY 1,2 ORDER BY 1,2', cnx)\n",
    "chk.head(2)"
   ]
  },
  {
   "cell_type": "code",
   "execution_count": 4,
   "metadata": {},
   "outputs": [
    {
     "data": {
      "text/plain": [
       "(88, 3)"
      ]
     },
     "execution_count": 4,
     "metadata": {},
     "output_type": "execute_result"
    }
   ],
   "source": [
    "chk.shape"
   ]
  },
  {
   "cell_type": "code",
   "execution_count": 5,
   "metadata": {
    "scrolled": true
   },
   "outputs": [
    {
     "data": {
      "text/html": [
       "<div>\n",
       "<style scoped>\n",
       "    .dataframe tbody tr th:only-of-type {\n",
       "        vertical-align: middle;\n",
       "    }\n",
       "\n",
       "    .dataframe tbody tr th {\n",
       "        vertical-align: top;\n",
       "    }\n",
       "\n",
       "    .dataframe thead th {\n",
       "        text-align: right;\n",
       "    }\n",
       "</style>\n",
       "<table border=\"1\" class=\"dataframe\">\n",
       "  <thead>\n",
       "    <tr style=\"text-align: right;\">\n",
       "      <th></th>\n",
       "      <th>matches</th>\n",
       "    </tr>\n",
       "  </thead>\n",
       "  <tbody>\n",
       "    <tr>\n",
       "      <td>count</td>\n",
       "      <td>88.000000</td>\n",
       "    </tr>\n",
       "    <tr>\n",
       "      <td>mean</td>\n",
       "      <td>34.772727</td>\n",
       "    </tr>\n",
       "    <tr>\n",
       "      <td>std</td>\n",
       "      <td>4.450823</td>\n",
       "    </tr>\n",
       "    <tr>\n",
       "      <td>min</td>\n",
       "      <td>6.000000</td>\n",
       "    </tr>\n",
       "    <tr>\n",
       "      <td>25%</td>\n",
       "      <td>34.000000</td>\n",
       "    </tr>\n",
       "    <tr>\n",
       "      <td>50%</td>\n",
       "      <td>36.000000</td>\n",
       "    </tr>\n",
       "    <tr>\n",
       "      <td>75%</td>\n",
       "      <td>38.000000</td>\n",
       "    </tr>\n",
       "    <tr>\n",
       "      <td>max</td>\n",
       "      <td>38.000000</td>\n",
       "    </tr>\n",
       "  </tbody>\n",
       "</table>\n",
       "</div>"
      ],
      "text/plain": [
       "         matches\n",
       "count  88.000000\n",
       "mean   34.772727\n",
       "std     4.450823\n",
       "min     6.000000\n",
       "25%    34.000000\n",
       "50%    36.000000\n",
       "75%    38.000000\n",
       "max    38.000000"
      ]
     },
     "execution_count": 5,
     "metadata": {},
     "output_type": "execute_result"
    }
   ],
   "source": [
    "chk.describe()"
   ]
  },
  {
   "cell_type": "code",
   "execution_count": 6,
   "metadata": {},
   "outputs": [
    {
     "data": {
      "text/html": [
       "<div>\n",
       "<style scoped>\n",
       "    .dataframe tbody tr th:only-of-type {\n",
       "        vertical-align: middle;\n",
       "    }\n",
       "\n",
       "    .dataframe tbody tr th {\n",
       "        vertical-align: top;\n",
       "    }\n",
       "\n",
       "    .dataframe thead th {\n",
       "        text-align: right;\n",
       "    }\n",
       "</style>\n",
       "<table border=\"1\" class=\"dataframe\">\n",
       "  <thead>\n",
       "    <tr style=\"text-align: right;\">\n",
       "      <th></th>\n",
       "      <th>id</th>\n",
       "      <th>team_fifa_api_id</th>\n",
       "      <th>team_api_id</th>\n",
       "      <th>date</th>\n",
       "      <th>buildUpPlaySpeed</th>\n",
       "      <th>buildUpPlaySpeedClass</th>\n",
       "      <th>buildUpPlayDribbling</th>\n",
       "      <th>buildUpPlayDribblingClass</th>\n",
       "      <th>buildUpPlayPassing</th>\n",
       "      <th>buildUpPlayPassingClass</th>\n",
       "      <th>...</th>\n",
       "      <th>defenceAggression</th>\n",
       "      <th>defenceAggressionClass</th>\n",
       "      <th>defenceTeamWidth</th>\n",
       "      <th>defenceTeamWidthClass</th>\n",
       "      <th>defenceDefenderLineClass</th>\n",
       "      <th>id</th>\n",
       "      <th>team_api_id</th>\n",
       "      <th>team_fifa_api_id</th>\n",
       "      <th>team_long_name</th>\n",
       "      <th>team_short_name</th>\n",
       "    </tr>\n",
       "  </thead>\n",
       "  <tbody>\n",
       "    <tr>\n",
       "      <td>0</td>\n",
       "      <td>1113</td>\n",
       "      <td>874</td>\n",
       "      <td>1601</td>\n",
       "      <td>2010-02-22 00:00:00</td>\n",
       "      <td>30</td>\n",
       "      <td>Slow</td>\n",
       "      <td>NaN</td>\n",
       "      <td>Little</td>\n",
       "      <td>40</td>\n",
       "      <td>Mixed</td>\n",
       "      <td>...</td>\n",
       "      <td>60</td>\n",
       "      <td>Press</td>\n",
       "      <td>50</td>\n",
       "      <td>Normal</td>\n",
       "      <td>Cover</td>\n",
       "      <td>31446</td>\n",
       "      <td>1601</td>\n",
       "      <td>874</td>\n",
       "      <td>Ruch Chorzów</td>\n",
       "      <td>CHO</td>\n",
       "    </tr>\n",
       "    <tr>\n",
       "      <td>1</td>\n",
       "      <td>1114</td>\n",
       "      <td>874</td>\n",
       "      <td>1601</td>\n",
       "      <td>2011-02-22 00:00:00</td>\n",
       "      <td>48</td>\n",
       "      <td>Balanced</td>\n",
       "      <td>NaN</td>\n",
       "      <td>Little</td>\n",
       "      <td>51</td>\n",
       "      <td>Mixed</td>\n",
       "      <td>...</td>\n",
       "      <td>48</td>\n",
       "      <td>Press</td>\n",
       "      <td>50</td>\n",
       "      <td>Normal</td>\n",
       "      <td>Cover</td>\n",
       "      <td>31446</td>\n",
       "      <td>1601</td>\n",
       "      <td>874</td>\n",
       "      <td>Ruch Chorzów</td>\n",
       "      <td>CHO</td>\n",
       "    </tr>\n",
       "  </tbody>\n",
       "</table>\n",
       "<p>2 rows × 30 columns</p>\n",
       "</div>"
      ],
      "text/plain": [
       "     id team_fifa_api_id team_api_id                 date  buildUpPlaySpeed  \\\n",
       "0  1113              874        1601  2010-02-22 00:00:00                30   \n",
       "1  1114              874        1601  2011-02-22 00:00:00                48   \n",
       "\n",
       "  buildUpPlaySpeedClass  buildUpPlayDribbling buildUpPlayDribblingClass  \\\n",
       "0                  Slow                   NaN                    Little   \n",
       "1              Balanced                   NaN                    Little   \n",
       "\n",
       "   buildUpPlayPassing buildUpPlayPassingClass  ... defenceAggression  \\\n",
       "0                  40                   Mixed  ...                60   \n",
       "1                  51                   Mixed  ...                48   \n",
       "\n",
       "   defenceAggressionClass defenceTeamWidth  defenceTeamWidthClass  \\\n",
       "0                   Press               50                 Normal   \n",
       "1                   Press               50                 Normal   \n",
       "\n",
       "  defenceDefenderLineClass     id team_api_id team_fifa_api_id  \\\n",
       "0                    Cover  31446        1601              874   \n",
       "1                    Cover  31446        1601              874   \n",
       "\n",
       "   team_long_name team_short_name  \n",
       "0    Ruch Chorzów             CHO  \n",
       "1    Ruch Chorzów             CHO  \n",
       "\n",
       "[2 rows x 30 columns]"
      ]
     },
     "execution_count": 6,
     "metadata": {},
     "output_type": "execute_result"
    }
   ],
   "source": [
    "#Team attributes\n",
    "team_attr = pd.read_sql_query('SELECT * FROM Team_Attributes ta JOIN Team t ON t.team_api_id = ta.team_api_id ORDER BY 3,4', cnx)\n",
    "team_attr.head(2)"
   ]
  },
  {
   "cell_type": "code",
   "execution_count": 7,
   "metadata": {},
   "outputs": [
    {
     "data": {
      "text/plain": [
       "(1458, 30)"
      ]
     },
     "execution_count": 7,
     "metadata": {},
     "output_type": "execute_result"
    }
   ],
   "source": [
    "team_attr.shape"
   ]
  },
  {
   "cell_type": "code",
   "execution_count": 8,
   "metadata": {},
   "outputs": [
    {
     "data": {
      "text/html": [
       "<div>\n",
       "<style scoped>\n",
       "    .dataframe tbody tr th:only-of-type {\n",
       "        vertical-align: middle;\n",
       "    }\n",
       "\n",
       "    .dataframe tbody tr th {\n",
       "        vertical-align: top;\n",
       "    }\n",
       "\n",
       "    .dataframe thead th {\n",
       "        text-align: right;\n",
       "    }\n",
       "</style>\n",
       "<table border=\"1\" class=\"dataframe\">\n",
       "  <thead>\n",
       "    <tr style=\"text-align: right;\">\n",
       "      <th></th>\n",
       "      <th>id</th>\n",
       "      <th>team_fifa_api_id</th>\n",
       "      <th>team_api_id</th>\n",
       "      <th>buildUpPlaySpeed</th>\n",
       "      <th>buildUpPlayDribbling</th>\n",
       "      <th>buildUpPlayPassing</th>\n",
       "      <th>chanceCreationPassing</th>\n",
       "      <th>chanceCreationCrossing</th>\n",
       "      <th>chanceCreationShooting</th>\n",
       "      <th>defencePressure</th>\n",
       "      <th>defenceAggression</th>\n",
       "      <th>defenceTeamWidth</th>\n",
       "      <th>id</th>\n",
       "      <th>team_api_id</th>\n",
       "      <th>team_fifa_api_id</th>\n",
       "    </tr>\n",
       "  </thead>\n",
       "  <tbody>\n",
       "    <tr>\n",
       "      <td>count</td>\n",
       "      <td>1458.000000</td>\n",
       "      <td>1458.000000</td>\n",
       "      <td>1458.000000</td>\n",
       "      <td>1458.000000</td>\n",
       "      <td>489.000000</td>\n",
       "      <td>1458.000000</td>\n",
       "      <td>1458.000000</td>\n",
       "      <td>1458.000000</td>\n",
       "      <td>1458.000000</td>\n",
       "      <td>1458.000000</td>\n",
       "      <td>1458.000000</td>\n",
       "      <td>1458.000000</td>\n",
       "      <td>1458.000000</td>\n",
       "      <td>1458.000000</td>\n",
       "      <td>1458.000000</td>\n",
       "    </tr>\n",
       "    <tr>\n",
       "      <td>mean</td>\n",
       "      <td>729.500000</td>\n",
       "      <td>17706.982167</td>\n",
       "      <td>9995.727023</td>\n",
       "      <td>52.462277</td>\n",
       "      <td>48.607362</td>\n",
       "      <td>48.490398</td>\n",
       "      <td>52.165295</td>\n",
       "      <td>53.731824</td>\n",
       "      <td>53.969136</td>\n",
       "      <td>46.017147</td>\n",
       "      <td>49.251029</td>\n",
       "      <td>52.185871</td>\n",
       "      <td>22692.858711</td>\n",
       "      <td>9995.727023</td>\n",
       "      <td>17706.982167</td>\n",
       "    </tr>\n",
       "    <tr>\n",
       "      <td>std</td>\n",
       "      <td>421.032659</td>\n",
       "      <td>39179.857739</td>\n",
       "      <td>13264.869900</td>\n",
       "      <td>11.545869</td>\n",
       "      <td>9.678290</td>\n",
       "      <td>10.896101</td>\n",
       "      <td>10.360793</td>\n",
       "      <td>11.086796</td>\n",
       "      <td>10.327566</td>\n",
       "      <td>10.227225</td>\n",
       "      <td>9.738028</td>\n",
       "      <td>9.574712</td>\n",
       "      <td>15015.159107</td>\n",
       "      <td>13264.869900</td>\n",
       "      <td>39179.857739</td>\n",
       "    </tr>\n",
       "    <tr>\n",
       "      <td>min</td>\n",
       "      <td>1.000000</td>\n",
       "      <td>1.000000</td>\n",
       "      <td>1601.000000</td>\n",
       "      <td>20.000000</td>\n",
       "      <td>24.000000</td>\n",
       "      <td>20.000000</td>\n",
       "      <td>21.000000</td>\n",
       "      <td>20.000000</td>\n",
       "      <td>22.000000</td>\n",
       "      <td>23.000000</td>\n",
       "      <td>24.000000</td>\n",
       "      <td>29.000000</td>\n",
       "      <td>1.000000</td>\n",
       "      <td>1601.000000</td>\n",
       "      <td>1.000000</td>\n",
       "    </tr>\n",
       "    <tr>\n",
       "      <td>25%</td>\n",
       "      <td>365.250000</td>\n",
       "      <td>110.000000</td>\n",
       "      <td>8457.750000</td>\n",
       "      <td>45.000000</td>\n",
       "      <td>42.000000</td>\n",
       "      <td>40.000000</td>\n",
       "      <td>46.000000</td>\n",
       "      <td>47.000000</td>\n",
       "      <td>48.000000</td>\n",
       "      <td>39.000000</td>\n",
       "      <td>44.000000</td>\n",
       "      <td>47.000000</td>\n",
       "      <td>9547.250000</td>\n",
       "      <td>8457.750000</td>\n",
       "      <td>110.000000</td>\n",
       "    </tr>\n",
       "    <tr>\n",
       "      <td>50%</td>\n",
       "      <td>729.500000</td>\n",
       "      <td>485.000000</td>\n",
       "      <td>8674.000000</td>\n",
       "      <td>52.000000</td>\n",
       "      <td>49.000000</td>\n",
       "      <td>50.000000</td>\n",
       "      <td>52.000000</td>\n",
       "      <td>53.000000</td>\n",
       "      <td>53.000000</td>\n",
       "      <td>45.000000</td>\n",
       "      <td>48.000000</td>\n",
       "      <td>52.000000</td>\n",
       "      <td>20524.500000</td>\n",
       "      <td>8674.000000</td>\n",
       "      <td>485.000000</td>\n",
       "    </tr>\n",
       "    <tr>\n",
       "      <td>75%</td>\n",
       "      <td>1093.750000</td>\n",
       "      <td>1900.000000</td>\n",
       "      <td>9904.000000</td>\n",
       "      <td>62.000000</td>\n",
       "      <td>55.000000</td>\n",
       "      <td>55.000000</td>\n",
       "      <td>59.000000</td>\n",
       "      <td>62.000000</td>\n",
       "      <td>61.000000</td>\n",
       "      <td>51.000000</td>\n",
       "      <td>55.000000</td>\n",
       "      <td>58.000000</td>\n",
       "      <td>35294.000000</td>\n",
       "      <td>9904.000000</td>\n",
       "      <td>1900.000000</td>\n",
       "    </tr>\n",
       "    <tr>\n",
       "      <td>max</td>\n",
       "      <td>1458.000000</td>\n",
       "      <td>112513.000000</td>\n",
       "      <td>274581.000000</td>\n",
       "      <td>80.000000</td>\n",
       "      <td>77.000000</td>\n",
       "      <td>80.000000</td>\n",
       "      <td>80.000000</td>\n",
       "      <td>80.000000</td>\n",
       "      <td>80.000000</td>\n",
       "      <td>72.000000</td>\n",
       "      <td>72.000000</td>\n",
       "      <td>73.000000</td>\n",
       "      <td>50204.000000</td>\n",
       "      <td>274581.000000</td>\n",
       "      <td>112513.000000</td>\n",
       "    </tr>\n",
       "  </tbody>\n",
       "</table>\n",
       "</div>"
      ],
      "text/plain": [
       "                id  team_fifa_api_id    team_api_id  buildUpPlaySpeed  \\\n",
       "count  1458.000000       1458.000000    1458.000000       1458.000000   \n",
       "mean    729.500000      17706.982167    9995.727023         52.462277   \n",
       "std     421.032659      39179.857739   13264.869900         11.545869   \n",
       "min       1.000000          1.000000    1601.000000         20.000000   \n",
       "25%     365.250000        110.000000    8457.750000         45.000000   \n",
       "50%     729.500000        485.000000    8674.000000         52.000000   \n",
       "75%    1093.750000       1900.000000    9904.000000         62.000000   \n",
       "max    1458.000000     112513.000000  274581.000000         80.000000   \n",
       "\n",
       "       buildUpPlayDribbling  buildUpPlayPassing  chanceCreationPassing  \\\n",
       "count            489.000000         1458.000000            1458.000000   \n",
       "mean              48.607362           48.490398              52.165295   \n",
       "std                9.678290           10.896101              10.360793   \n",
       "min               24.000000           20.000000              21.000000   \n",
       "25%               42.000000           40.000000              46.000000   \n",
       "50%               49.000000           50.000000              52.000000   \n",
       "75%               55.000000           55.000000              59.000000   \n",
       "max               77.000000           80.000000              80.000000   \n",
       "\n",
       "       chanceCreationCrossing  chanceCreationShooting  defencePressure  \\\n",
       "count             1458.000000             1458.000000      1458.000000   \n",
       "mean                53.731824               53.969136        46.017147   \n",
       "std                 11.086796               10.327566        10.227225   \n",
       "min                 20.000000               22.000000        23.000000   \n",
       "25%                 47.000000               48.000000        39.000000   \n",
       "50%                 53.000000               53.000000        45.000000   \n",
       "75%                 62.000000               61.000000        51.000000   \n",
       "max                 80.000000               80.000000        72.000000   \n",
       "\n",
       "       defenceAggression  defenceTeamWidth            id    team_api_id  \\\n",
       "count        1458.000000       1458.000000   1458.000000    1458.000000   \n",
       "mean           49.251029         52.185871  22692.858711    9995.727023   \n",
       "std             9.738028          9.574712  15015.159107   13264.869900   \n",
       "min            24.000000         29.000000      1.000000    1601.000000   \n",
       "25%            44.000000         47.000000   9547.250000    8457.750000   \n",
       "50%            48.000000         52.000000  20524.500000    8674.000000   \n",
       "75%            55.000000         58.000000  35294.000000    9904.000000   \n",
       "max            72.000000         73.000000  50204.000000  274581.000000   \n",
       "\n",
       "       team_fifa_api_id  \n",
       "count       1458.000000  \n",
       "mean       17706.982167  \n",
       "std        39179.857739  \n",
       "min            1.000000  \n",
       "25%          110.000000  \n",
       "50%          485.000000  \n",
       "75%         1900.000000  \n",
       "max       112513.000000  "
      ]
     },
     "execution_count": 8,
     "metadata": {},
     "output_type": "execute_result"
    }
   ],
   "source": [
    "team_attr.describe()"
   ]
  },
  {
   "cell_type": "code",
   "execution_count": 9,
   "metadata": {},
   "outputs": [
    {
     "data": {
      "text/html": [
       "<div>\n",
       "<style scoped>\n",
       "    .dataframe tbody tr th:only-of-type {\n",
       "        vertical-align: middle;\n",
       "    }\n",
       "\n",
       "    .dataframe tbody tr th {\n",
       "        vertical-align: top;\n",
       "    }\n",
       "\n",
       "    .dataframe thead th {\n",
       "        text-align: right;\n",
       "    }\n",
       "</style>\n",
       "<table border=\"1\" class=\"dataframe\">\n",
       "  <thead>\n",
       "    <tr style=\"text-align: right;\">\n",
       "      <th></th>\n",
       "      <th>league_id</th>\n",
       "      <th>stage</th>\n",
       "      <th>season</th>\n",
       "      <th>match_api_id</th>\n",
       "      <th>home_team_goal</th>\n",
       "      <th>away_team_goal</th>\n",
       "      <th>result</th>\n",
       "      <th>home_win</th>\n",
       "      <th>away_win</th>\n",
       "    </tr>\n",
       "  </thead>\n",
       "  <tbody>\n",
       "    <tr>\n",
       "      <td>0</td>\n",
       "      <td>1</td>\n",
       "      <td>1</td>\n",
       "      <td>2008/2009</td>\n",
       "      <td>492473</td>\n",
       "      <td>1</td>\n",
       "      <td>1</td>\n",
       "      <td>d</td>\n",
       "      <td>0</td>\n",
       "      <td>0</td>\n",
       "    </tr>\n",
       "    <tr>\n",
       "      <td>1</td>\n",
       "      <td>1</td>\n",
       "      <td>1</td>\n",
       "      <td>2008/2009</td>\n",
       "      <td>492474</td>\n",
       "      <td>0</td>\n",
       "      <td>0</td>\n",
       "      <td>d</td>\n",
       "      <td>0</td>\n",
       "      <td>0</td>\n",
       "    </tr>\n",
       "  </tbody>\n",
       "</table>\n",
       "</div>"
      ],
      "text/plain": [
       "   league_id  stage     season  match_api_id  home_team_goal  away_team_goal  \\\n",
       "0          1      1  2008/2009        492473               1               1   \n",
       "1          1      1  2008/2009        492474               0               0   \n",
       "\n",
       "  result  home_win  away_win  \n",
       "0      d         0         0  \n",
       "1      d         0         0  "
      ]
     },
     "execution_count": 9,
     "metadata": {},
     "output_type": "execute_result"
    }
   ],
   "source": [
    "#league win rate analysis\n",
    "lge_id = pd.read_sql_query('SELECT league_id, stage, season, match_api_id, home_team_goal, away_team_goal, CASE  WHEN home_team_goal = away_team_goal THEN \"d\" WHEN home_team_goal > away_team_goal THEN \"w\" WHEN home_team_goal < away_team_goal THEN \"w\" END AS result,CASE WHEN home_team_goal > away_team_goal THEN 1 ELSE 0 END AS home_win, CASE WHEN home_team_goal < away_team_goal THEN 1 ELSE 0 END AS away_win FROM Match ORDER BY 2',cnx)\n",
    "lge_id.head(2)"
   ]
  },
  {
   "cell_type": "code",
   "execution_count": 10,
   "metadata": {},
   "outputs": [
    {
     "data": {
      "text/plain": [
       "(25979, 9)"
      ]
     },
     "execution_count": 10,
     "metadata": {},
     "output_type": "execute_result"
    }
   ],
   "source": [
    "lge_id.shape"
   ]
  },
  {
   "cell_type": "code",
   "execution_count": 11,
   "metadata": {},
   "outputs": [
    {
     "data": {
      "text/html": [
       "<div>\n",
       "<style scoped>\n",
       "    .dataframe tbody tr th:only-of-type {\n",
       "        vertical-align: middle;\n",
       "    }\n",
       "\n",
       "    .dataframe tbody tr th {\n",
       "        vertical-align: top;\n",
       "    }\n",
       "\n",
       "    .dataframe thead th {\n",
       "        text-align: right;\n",
       "    }\n",
       "</style>\n",
       "<table border=\"1\" class=\"dataframe\">\n",
       "  <thead>\n",
       "    <tr style=\"text-align: right;\">\n",
       "      <th></th>\n",
       "      <th>league_id</th>\n",
       "      <th>stage</th>\n",
       "      <th>match_api_id</th>\n",
       "      <th>home_team_goal</th>\n",
       "      <th>away_team_goal</th>\n",
       "      <th>home_win</th>\n",
       "      <th>away_win</th>\n",
       "    </tr>\n",
       "  </thead>\n",
       "  <tbody>\n",
       "    <tr>\n",
       "      <td>count</td>\n",
       "      <td>25979.000000</td>\n",
       "      <td>25979.000000</td>\n",
       "      <td>2.597900e+04</td>\n",
       "      <td>25979.000000</td>\n",
       "      <td>25979.000000</td>\n",
       "      <td>25979.000000</td>\n",
       "      <td>25979.000000</td>\n",
       "    </tr>\n",
       "    <tr>\n",
       "      <td>mean</td>\n",
       "      <td>11738.630317</td>\n",
       "      <td>18.242773</td>\n",
       "      <td>1.195429e+06</td>\n",
       "      <td>1.544594</td>\n",
       "      <td>1.160938</td>\n",
       "      <td>0.458717</td>\n",
       "      <td>0.287386</td>\n",
       "    </tr>\n",
       "    <tr>\n",
       "      <td>std</td>\n",
       "      <td>7553.936759</td>\n",
       "      <td>10.407354</td>\n",
       "      <td>4.946279e+05</td>\n",
       "      <td>1.297158</td>\n",
       "      <td>1.142110</td>\n",
       "      <td>0.498302</td>\n",
       "      <td>0.452552</td>\n",
       "    </tr>\n",
       "    <tr>\n",
       "      <td>min</td>\n",
       "      <td>1.000000</td>\n",
       "      <td>1.000000</td>\n",
       "      <td>4.831290e+05</td>\n",
       "      <td>0.000000</td>\n",
       "      <td>0.000000</td>\n",
       "      <td>0.000000</td>\n",
       "      <td>0.000000</td>\n",
       "    </tr>\n",
       "    <tr>\n",
       "      <td>25%</td>\n",
       "      <td>4769.000000</td>\n",
       "      <td>9.000000</td>\n",
       "      <td>7.684365e+05</td>\n",
       "      <td>1.000000</td>\n",
       "      <td>0.000000</td>\n",
       "      <td>0.000000</td>\n",
       "      <td>0.000000</td>\n",
       "    </tr>\n",
       "    <tr>\n",
       "      <td>50%</td>\n",
       "      <td>10257.000000</td>\n",
       "      <td>18.000000</td>\n",
       "      <td>1.147511e+06</td>\n",
       "      <td>1.000000</td>\n",
       "      <td>1.000000</td>\n",
       "      <td>0.000000</td>\n",
       "      <td>0.000000</td>\n",
       "    </tr>\n",
       "    <tr>\n",
       "      <td>75%</td>\n",
       "      <td>17642.000000</td>\n",
       "      <td>27.000000</td>\n",
       "      <td>1.709852e+06</td>\n",
       "      <td>2.000000</td>\n",
       "      <td>2.000000</td>\n",
       "      <td>1.000000</td>\n",
       "      <td>1.000000</td>\n",
       "    </tr>\n",
       "    <tr>\n",
       "      <td>max</td>\n",
       "      <td>24558.000000</td>\n",
       "      <td>38.000000</td>\n",
       "      <td>2.216672e+06</td>\n",
       "      <td>10.000000</td>\n",
       "      <td>9.000000</td>\n",
       "      <td>1.000000</td>\n",
       "      <td>1.000000</td>\n",
       "    </tr>\n",
       "  </tbody>\n",
       "</table>\n",
       "</div>"
      ],
      "text/plain": [
       "          league_id         stage  match_api_id  home_team_goal  \\\n",
       "count  25979.000000  25979.000000  2.597900e+04    25979.000000   \n",
       "mean   11738.630317     18.242773  1.195429e+06        1.544594   \n",
       "std     7553.936759     10.407354  4.946279e+05        1.297158   \n",
       "min        1.000000      1.000000  4.831290e+05        0.000000   \n",
       "25%     4769.000000      9.000000  7.684365e+05        1.000000   \n",
       "50%    10257.000000     18.000000  1.147511e+06        1.000000   \n",
       "75%    17642.000000     27.000000  1.709852e+06        2.000000   \n",
       "max    24558.000000     38.000000  2.216672e+06       10.000000   \n",
       "\n",
       "       away_team_goal      home_win      away_win  \n",
       "count    25979.000000  25979.000000  25979.000000  \n",
       "mean         1.160938      0.458717      0.287386  \n",
       "std          1.142110      0.498302      0.452552  \n",
       "min          0.000000      0.000000      0.000000  \n",
       "25%          0.000000      0.000000      0.000000  \n",
       "50%          1.000000      0.000000      0.000000  \n",
       "75%          2.000000      1.000000      1.000000  \n",
       "max          9.000000      1.000000      1.000000  "
      ]
     },
     "execution_count": 11,
     "metadata": {},
     "output_type": "execute_result"
    }
   ],
   "source": [
    "lge_id.describe()"
   ]
  },
  {
   "cell_type": "code",
   "execution_count": 12,
   "metadata": {},
   "outputs": [
    {
     "data": {
      "text/html": [
       "<div>\n",
       "<style scoped>\n",
       "    .dataframe tbody tr th:only-of-type {\n",
       "        vertical-align: middle;\n",
       "    }\n",
       "\n",
       "    .dataframe tbody tr th {\n",
       "        vertical-align: top;\n",
       "    }\n",
       "\n",
       "    .dataframe thead th {\n",
       "        text-align: right;\n",
       "    }\n",
       "</style>\n",
       "<table border=\"1\" class=\"dataframe\">\n",
       "  <thead>\n",
       "    <tr style=\"text-align: right;\">\n",
       "      <th></th>\n",
       "      <th>league_id</th>\n",
       "      <th>name</th>\n",
       "      <th>season</th>\n",
       "      <th>stage</th>\n",
       "      <th>match_api_id</th>\n",
       "      <th>home_short</th>\n",
       "      <th>home_long</th>\n",
       "      <th>away_short</th>\n",
       "      <th>away_long</th>\n",
       "      <th>home_team_goal</th>\n",
       "      <th>away_team_goal</th>\n",
       "    </tr>\n",
       "  </thead>\n",
       "  <tbody>\n",
       "    <tr>\n",
       "      <td>0</td>\n",
       "      <td>1</td>\n",
       "      <td>Belgium Jupiler League</td>\n",
       "      <td>2008/2009</td>\n",
       "      <td>1</td>\n",
       "      <td>492473</td>\n",
       "      <td>GEN</td>\n",
       "      <td>KRC Genk</td>\n",
       "      <td>BAC</td>\n",
       "      <td>Beerschot AC</td>\n",
       "      <td>1</td>\n",
       "      <td>1</td>\n",
       "    </tr>\n",
       "    <tr>\n",
       "      <td>1</td>\n",
       "      <td>1</td>\n",
       "      <td>Belgium Jupiler League</td>\n",
       "      <td>2008/2009</td>\n",
       "      <td>1</td>\n",
       "      <td>492474</td>\n",
       "      <td>ZUL</td>\n",
       "      <td>SV Zulte-Waregem</td>\n",
       "      <td>LOK</td>\n",
       "      <td>Sporting Lokeren</td>\n",
       "      <td>0</td>\n",
       "      <td>0</td>\n",
       "    </tr>\n",
       "  </tbody>\n",
       "</table>\n",
       "</div>"
      ],
      "text/plain": [
       "   league_id                    name     season  stage  match_api_id  \\\n",
       "0          1  Belgium Jupiler League  2008/2009      1        492473   \n",
       "1          1  Belgium Jupiler League  2008/2009      1        492474   \n",
       "\n",
       "  home_short         home_long away_short         away_long  home_team_goal  \\\n",
       "0        GEN          KRC Genk        BAC      Beerschot AC               1   \n",
       "1        ZUL  SV Zulte-Waregem        LOK  Sporting Lokeren               0   \n",
       "\n",
       "   away_team_goal  \n",
       "0               1  \n",
       "1               0  "
      ]
     },
     "execution_count": 12,
     "metadata": {},
     "output_type": "execute_result"
    }
   ],
   "source": [
    "#match results\n",
    "mtch = pd.read_sql_query('WITH t1 AS(SELECT league_id, name, season, stage, match_api_id, home_team_api_id, team_short_name AS home_short, team_long_name AS home_long, away_team_api_id, home_team_goal, away_team_goal FROM Match m JOIN League l ON l.id = m.league_id JOIN Team t ON m.home_team_api_id = t.team_api_id), t2 AS (SELECT * FROM Team) SELECT league_id, name, season, stage, match_api_id, home_short, home_long, team_short_name AS away_short, team_long_name AS away_long, home_team_goal, away_team_goal FROM t1 JOIN t2 ON t2.team_api_id = t1.away_team_api_id',cnx)\n",
    "mtch.head(2)"
   ]
  },
  {
   "cell_type": "code",
   "execution_count": 13,
   "metadata": {},
   "outputs": [
    {
     "data": {
      "text/plain": [
       "(25979, 11)"
      ]
     },
     "execution_count": 13,
     "metadata": {},
     "output_type": "execute_result"
    }
   ],
   "source": [
    "mtch.shape"
   ]
  },
  {
   "cell_type": "code",
   "execution_count": 14,
   "metadata": {},
   "outputs": [
    {
     "data": {
      "text/html": [
       "<div>\n",
       "<style scoped>\n",
       "    .dataframe tbody tr th:only-of-type {\n",
       "        vertical-align: middle;\n",
       "    }\n",
       "\n",
       "    .dataframe tbody tr th {\n",
       "        vertical-align: top;\n",
       "    }\n",
       "\n",
       "    .dataframe thead th {\n",
       "        text-align: right;\n",
       "    }\n",
       "</style>\n",
       "<table border=\"1\" class=\"dataframe\">\n",
       "  <thead>\n",
       "    <tr style=\"text-align: right;\">\n",
       "      <th></th>\n",
       "      <th>player_name</th>\n",
       "      <th>height</th>\n",
       "      <th>weight</th>\n",
       "    </tr>\n",
       "  </thead>\n",
       "  <tbody>\n",
       "    <tr>\n",
       "      <td>0</td>\n",
       "      <td>Aaron Appindangoye</td>\n",
       "      <td>182.88</td>\n",
       "      <td>84.82</td>\n",
       "    </tr>\n",
       "    <tr>\n",
       "      <td>1</td>\n",
       "      <td>Aaron Cresswell</td>\n",
       "      <td>170.18</td>\n",
       "      <td>66.22</td>\n",
       "    </tr>\n",
       "  </tbody>\n",
       "</table>\n",
       "</div>"
      ],
      "text/plain": [
       "          player_name  height  weight\n",
       "0  Aaron Appindangoye  182.88   84.82\n",
       "1     Aaron Cresswell  170.18   66.22"
      ]
     },
     "execution_count": 14,
     "metadata": {},
     "output_type": "execute_result"
    }
   ],
   "source": [
    "#Player height data\n",
    "pl = pd.read_sql_query('SELECT player_name, height, ROUND(weight*0.453592,2) AS weight FROM Player', cnx)\n",
    "pl.head(2)"
   ]
  },
  {
   "cell_type": "code",
   "execution_count": 15,
   "metadata": {},
   "outputs": [
    {
     "data": {
      "text/plain": [
       "(11060, 3)"
      ]
     },
     "execution_count": 15,
     "metadata": {},
     "output_type": "execute_result"
    }
   ],
   "source": [
    "pl.shape"
   ]
  },
  {
   "cell_type": "code",
   "execution_count": 16,
   "metadata": {},
   "outputs": [
    {
     "data": {
      "text/html": [
       "<div>\n",
       "<style scoped>\n",
       "    .dataframe tbody tr th:only-of-type {\n",
       "        vertical-align: middle;\n",
       "    }\n",
       "\n",
       "    .dataframe tbody tr th {\n",
       "        vertical-align: top;\n",
       "    }\n",
       "\n",
       "    .dataframe thead th {\n",
       "        text-align: right;\n",
       "    }\n",
       "</style>\n",
       "<table border=\"1\" class=\"dataframe\">\n",
       "  <thead>\n",
       "    <tr style=\"text-align: right;\">\n",
       "      <th></th>\n",
       "      <th>height</th>\n",
       "      <th>weight</th>\n",
       "    </tr>\n",
       "  </thead>\n",
       "  <tbody>\n",
       "    <tr>\n",
       "      <td>count</td>\n",
       "      <td>11060.000000</td>\n",
       "      <td>11060.000000</td>\n",
       "    </tr>\n",
       "    <tr>\n",
       "      <td>mean</td>\n",
       "      <td>181.867445</td>\n",
       "      <td>76.375393</td>\n",
       "    </tr>\n",
       "    <tr>\n",
       "      <td>std</td>\n",
       "      <td>6.369201</td>\n",
       "      <td>6.799564</td>\n",
       "    </tr>\n",
       "    <tr>\n",
       "      <td>min</td>\n",
       "      <td>157.480000</td>\n",
       "      <td>53.070000</td>\n",
       "    </tr>\n",
       "    <tr>\n",
       "      <td>25%</td>\n",
       "      <td>177.800000</td>\n",
       "      <td>72.120000</td>\n",
       "    </tr>\n",
       "    <tr>\n",
       "      <td>50%</td>\n",
       "      <td>182.880000</td>\n",
       "      <td>76.200000</td>\n",
       "    </tr>\n",
       "    <tr>\n",
       "      <td>75%</td>\n",
       "      <td>185.420000</td>\n",
       "      <td>81.190000</td>\n",
       "    </tr>\n",
       "    <tr>\n",
       "      <td>max</td>\n",
       "      <td>208.280000</td>\n",
       "      <td>110.220000</td>\n",
       "    </tr>\n",
       "  </tbody>\n",
       "</table>\n",
       "</div>"
      ],
      "text/plain": [
       "             height        weight\n",
       "count  11060.000000  11060.000000\n",
       "mean     181.867445     76.375393\n",
       "std        6.369201      6.799564\n",
       "min      157.480000     53.070000\n",
       "25%      177.800000     72.120000\n",
       "50%      182.880000     76.200000\n",
       "75%      185.420000     81.190000\n",
       "max      208.280000    110.220000"
      ]
     },
     "execution_count": 16,
     "metadata": {},
     "output_type": "execute_result"
    }
   ],
   "source": [
    "pl.describe()"
   ]
  },
  {
   "cell_type": "markdown",
   "metadata": {},
   "source": [
    "the 'mtch' and 'lge_id' datasets are the same reflection, the only differentiation here is that I divided my win/draw identifiers in the 'lge_id' dataset (These datasets will be cleansed and merged later). \n",
    "\n",
    "Player data used in this analysis show no problems. Now checking for null values in my datasets. describtions of the datasets do not report any abnormal values, which is good."
   ]
  },
  {
   "cell_type": "code",
   "execution_count": 17,
   "metadata": {},
   "outputs": [
    {
     "name": "stdout",
     "output_type": "stream",
     "text": [
      "<class 'pandas.core.frame.DataFrame'>\n",
      "RangeIndex: 88 entries, 0 to 87\n",
      "Data columns (total 3 columns):\n",
      "name       88 non-null object\n",
      "season     88 non-null object\n",
      "matches    88 non-null int64\n",
      "dtypes: int64(1), object(2)\n",
      "memory usage: 2.2+ KB\n"
     ]
    }
   ],
   "source": [
    "chk.info()"
   ]
  },
  {
   "cell_type": "code",
   "execution_count": 18,
   "metadata": {
    "scrolled": true
   },
   "outputs": [
    {
     "name": "stdout",
     "output_type": "stream",
     "text": [
      "<class 'pandas.core.frame.DataFrame'>\n",
      "RangeIndex: 1458 entries, 0 to 1457\n",
      "Data columns (total 30 columns):\n",
      "id                                1458 non-null int64\n",
      "team_fifa_api_id                  1458 non-null int64\n",
      "team_api_id                       1458 non-null int64\n",
      "date                              1458 non-null object\n",
      "buildUpPlaySpeed                  1458 non-null int64\n",
      "buildUpPlaySpeedClass             1458 non-null object\n",
      "buildUpPlayDribbling              489 non-null float64\n",
      "buildUpPlayDribblingClass         1458 non-null object\n",
      "buildUpPlayPassing                1458 non-null int64\n",
      "buildUpPlayPassingClass           1458 non-null object\n",
      "buildUpPlayPositioningClass       1458 non-null object\n",
      "chanceCreationPassing             1458 non-null int64\n",
      "chanceCreationPassingClass        1458 non-null object\n",
      "chanceCreationCrossing            1458 non-null int64\n",
      "chanceCreationCrossingClass       1458 non-null object\n",
      "chanceCreationShooting            1458 non-null int64\n",
      "chanceCreationShootingClass       1458 non-null object\n",
      "chanceCreationPositioningClass    1458 non-null object\n",
      "defencePressure                   1458 non-null int64\n",
      "defencePressureClass              1458 non-null object\n",
      "defenceAggression                 1458 non-null int64\n",
      "defenceAggressionClass            1458 non-null object\n",
      "defenceTeamWidth                  1458 non-null int64\n",
      "defenceTeamWidthClass             1458 non-null object\n",
      "defenceDefenderLineClass          1458 non-null object\n",
      "id                                1458 non-null int64\n",
      "team_api_id                       1458 non-null int64\n",
      "team_fifa_api_id                  1458 non-null int64\n",
      "team_long_name                    1458 non-null object\n",
      "team_short_name                   1458 non-null object\n",
      "dtypes: float64(1), int64(14), object(15)\n",
      "memory usage: 341.8+ KB\n"
     ]
    }
   ],
   "source": [
    "team_attr.info()"
   ]
  },
  {
   "cell_type": "code",
   "execution_count": 19,
   "metadata": {
    "scrolled": true
   },
   "outputs": [
    {
     "name": "stdout",
     "output_type": "stream",
     "text": [
      "<class 'pandas.core.frame.DataFrame'>\n",
      "RangeIndex: 25979 entries, 0 to 25978\n",
      "Data columns (total 9 columns):\n",
      "league_id         25979 non-null int64\n",
      "stage             25979 non-null int64\n",
      "season            25979 non-null object\n",
      "match_api_id      25979 non-null int64\n",
      "home_team_goal    25979 non-null int64\n",
      "away_team_goal    25979 non-null int64\n",
      "result            25979 non-null object\n",
      "home_win          25979 non-null int64\n",
      "away_win          25979 non-null int64\n",
      "dtypes: int64(7), object(2)\n",
      "memory usage: 1.8+ MB\n"
     ]
    }
   ],
   "source": [
    "lge_id.info()"
   ]
  },
  {
   "cell_type": "code",
   "execution_count": 20,
   "metadata": {
    "scrolled": true
   },
   "outputs": [
    {
     "name": "stdout",
     "output_type": "stream",
     "text": [
      "<class 'pandas.core.frame.DataFrame'>\n",
      "RangeIndex: 25979 entries, 0 to 25978\n",
      "Data columns (total 11 columns):\n",
      "league_id         25979 non-null int64\n",
      "name              25979 non-null object\n",
      "season            25979 non-null object\n",
      "stage             25979 non-null int64\n",
      "match_api_id      25979 non-null int64\n",
      "home_short        25979 non-null object\n",
      "home_long         25979 non-null object\n",
      "away_short        25979 non-null object\n",
      "away_long         25979 non-null object\n",
      "home_team_goal    25979 non-null int64\n",
      "away_team_goal    25979 non-null int64\n",
      "dtypes: int64(5), object(6)\n",
      "memory usage: 2.2+ MB\n"
     ]
    }
   ],
   "source": [
    "mtch.info()"
   ]
  },
  {
   "cell_type": "code",
   "execution_count": 21,
   "metadata": {},
   "outputs": [
    {
     "name": "stdout",
     "output_type": "stream",
     "text": [
      "<class 'pandas.core.frame.DataFrame'>\n",
      "RangeIndex: 11060 entries, 0 to 11059\n",
      "Data columns (total 3 columns):\n",
      "player_name    11060 non-null object\n",
      "height         11060 non-null float64\n",
      "weight         11060 non-null float64\n",
      "dtypes: float64(2), object(1)\n",
      "memory usage: 259.3+ KB\n"
     ]
    }
   ],
   "source": [
    "pl.info()"
   ]
  },
  {
   "cell_type": "code",
   "execution_count": 22,
   "metadata": {},
   "outputs": [
    {
     "data": {
      "text/plain": [
       "(0, 0, 0, 0, 2)"
      ]
     },
     "execution_count": 22,
     "metadata": {},
     "output_type": "execute_result"
    }
   ],
   "source": [
    "chk.duplicated().sum(), team_attr.duplicated().sum(), lge_id.duplicated().sum(), mtch.duplicated().sum(), pl.duplicated().sum()"
   ]
  },
  {
   "cell_type": "markdown",
   "metadata": {},
   "source": [
    "It seems that the only dataset that has an issue is the 'team_attr'. the column 'buildUpPlayDribbling' has two thirds of the data missing. Please note that I will disregard this column from any analysis as it will not be reliant in any EDA, even if we filled the null values with averages. \n",
    "\n",
    "Moreover, observation in our data is that there are no duplicates (seems natural as each value set in any table in the database will always remain unique), any unnecessary columns in the datasets will be removed. Finally the player attributes show a duplicated value that I will need to remove before analysing the data.\n",
    "\n",
    "### Null handling, columns dropping, merging data"
   ]
  },
  {
   "cell_type": "markdown",
   "metadata": {},
   "source": [
    "I used the below link to drop duplicated columns in my dataset(s)\n",
    "https://stackoverflow.com/questions/14984119/python-pandas-remove-duplicate-columns"
   ]
  },
  {
   "cell_type": "markdown",
   "metadata": {},
   "source": [
    "#### Team attributes dataset 'team_attr'"
   ]
  },
  {
   "cell_type": "code",
   "execution_count": 23,
   "metadata": {
    "scrolled": true
   },
   "outputs": [],
   "source": [
    "#drop duplicated columns in team_attr\n",
    "team_attr = team_attr.loc[:,~team_attr.columns.duplicated()]\n",
    "#drop the extra columns\n",
    "team_attr.drop(columns = ['id', 'team_fifa_api_id', 'team_short_name'], axis = 1, inplace = True)"
   ]
  },
  {
   "cell_type": "code",
   "execution_count": 24,
   "metadata": {
    "scrolled": false
   },
   "outputs": [
    {
     "data": {
      "text/html": [
       "<div>\n",
       "<style scoped>\n",
       "    .dataframe tbody tr th:only-of-type {\n",
       "        vertical-align: middle;\n",
       "    }\n",
       "\n",
       "    .dataframe tbody tr th {\n",
       "        vertical-align: top;\n",
       "    }\n",
       "\n",
       "    .dataframe thead th {\n",
       "        text-align: right;\n",
       "    }\n",
       "</style>\n",
       "<table border=\"1\" class=\"dataframe\">\n",
       "  <thead>\n",
       "    <tr style=\"text-align: right;\">\n",
       "      <th></th>\n",
       "      <th>team_api_id</th>\n",
       "      <th>date</th>\n",
       "      <th>buildUpPlaySpeed</th>\n",
       "      <th>buildUpPlaySpeedClass</th>\n",
       "      <th>buildUpPlayDribbling</th>\n",
       "      <th>buildUpPlayDribblingClass</th>\n",
       "      <th>buildUpPlayPassing</th>\n",
       "      <th>buildUpPlayPassingClass</th>\n",
       "      <th>buildUpPlayPositioningClass</th>\n",
       "      <th>chanceCreationPassing</th>\n",
       "      <th>...</th>\n",
       "      <th>chanceCreationShootingClass</th>\n",
       "      <th>chanceCreationPositioningClass</th>\n",
       "      <th>defencePressure</th>\n",
       "      <th>defencePressureClass</th>\n",
       "      <th>defenceAggression</th>\n",
       "      <th>defenceAggressionClass</th>\n",
       "      <th>defenceTeamWidth</th>\n",
       "      <th>defenceTeamWidthClass</th>\n",
       "      <th>defenceDefenderLineClass</th>\n",
       "      <th>team_long_name</th>\n",
       "    </tr>\n",
       "  </thead>\n",
       "  <tbody>\n",
       "    <tr>\n",
       "      <td>0</td>\n",
       "      <td>1601</td>\n",
       "      <td>2010-02-22 00:00:00</td>\n",
       "      <td>30</td>\n",
       "      <td>Slow</td>\n",
       "      <td>NaN</td>\n",
       "      <td>Little</td>\n",
       "      <td>40</td>\n",
       "      <td>Mixed</td>\n",
       "      <td>Organised</td>\n",
       "      <td>50</td>\n",
       "      <td>...</td>\n",
       "      <td>Lots</td>\n",
       "      <td>Organised</td>\n",
       "      <td>65</td>\n",
       "      <td>Medium</td>\n",
       "      <td>60</td>\n",
       "      <td>Press</td>\n",
       "      <td>50</td>\n",
       "      <td>Normal</td>\n",
       "      <td>Cover</td>\n",
       "      <td>Ruch Chorzów</td>\n",
       "    </tr>\n",
       "    <tr>\n",
       "      <td>1</td>\n",
       "      <td>1601</td>\n",
       "      <td>2011-02-22 00:00:00</td>\n",
       "      <td>48</td>\n",
       "      <td>Balanced</td>\n",
       "      <td>NaN</td>\n",
       "      <td>Little</td>\n",
       "      <td>51</td>\n",
       "      <td>Mixed</td>\n",
       "      <td>Organised</td>\n",
       "      <td>68</td>\n",
       "      <td>...</td>\n",
       "      <td>Normal</td>\n",
       "      <td>Organised</td>\n",
       "      <td>46</td>\n",
       "      <td>Medium</td>\n",
       "      <td>48</td>\n",
       "      <td>Press</td>\n",
       "      <td>50</td>\n",
       "      <td>Normal</td>\n",
       "      <td>Cover</td>\n",
       "      <td>Ruch Chorzów</td>\n",
       "    </tr>\n",
       "  </tbody>\n",
       "</table>\n",
       "<p>2 rows × 24 columns</p>\n",
       "</div>"
      ],
      "text/plain": [
       "   team_api_id                 date  buildUpPlaySpeed buildUpPlaySpeedClass  \\\n",
       "0         1601  2010-02-22 00:00:00                30                  Slow   \n",
       "1         1601  2011-02-22 00:00:00                48              Balanced   \n",
       "\n",
       "   buildUpPlayDribbling buildUpPlayDribblingClass  buildUpPlayPassing  \\\n",
       "0                   NaN                    Little                  40   \n",
       "1                   NaN                    Little                  51   \n",
       "\n",
       "  buildUpPlayPassingClass buildUpPlayPositioningClass  chanceCreationPassing  \\\n",
       "0                   Mixed                   Organised                     50   \n",
       "1                   Mixed                   Organised                     68   \n",
       "\n",
       "   ... chanceCreationShootingClass  chanceCreationPositioningClass  \\\n",
       "0  ...                        Lots                       Organised   \n",
       "1  ...                      Normal                       Organised   \n",
       "\n",
       "  defencePressure  defencePressureClass defenceAggression  \\\n",
       "0              65                Medium                60   \n",
       "1              46                Medium                48   \n",
       "\n",
       "  defenceAggressionClass  defenceTeamWidth defenceTeamWidthClass  \\\n",
       "0                  Press                50                Normal   \n",
       "1                  Press                50                Normal   \n",
       "\n",
       "   defenceDefenderLineClass team_long_name  \n",
       "0                     Cover   Ruch Chorzów  \n",
       "1                     Cover   Ruch Chorzów  \n",
       "\n",
       "[2 rows x 24 columns]"
      ]
     },
     "execution_count": 24,
     "metadata": {},
     "output_type": "execute_result"
    }
   ],
   "source": [
    "team_attr.head(2)"
   ]
  },
  {
   "cell_type": "code",
   "execution_count": 25,
   "metadata": {
    "scrolled": true
   },
   "outputs": [
    {
     "data": {
      "text/html": [
       "<div>\n",
       "<style scoped>\n",
       "    .dataframe tbody tr th:only-of-type {\n",
       "        vertical-align: middle;\n",
       "    }\n",
       "\n",
       "    .dataframe tbody tr th {\n",
       "        vertical-align: top;\n",
       "    }\n",
       "\n",
       "    .dataframe thead th {\n",
       "        text-align: right;\n",
       "    }\n",
       "</style>\n",
       "<table border=\"1\" class=\"dataframe\">\n",
       "  <thead>\n",
       "    <tr style=\"text-align: right;\">\n",
       "      <th></th>\n",
       "      <th>team_api_id</th>\n",
       "      <th>buildUpPlaySpeed</th>\n",
       "      <th>buildUpPlayDribbling</th>\n",
       "      <th>buildUpPlayPassing</th>\n",
       "      <th>chanceCreationPassing</th>\n",
       "      <th>chanceCreationCrossing</th>\n",
       "      <th>chanceCreationShooting</th>\n",
       "      <th>defencePressure</th>\n",
       "      <th>defenceAggression</th>\n",
       "      <th>defenceTeamWidth</th>\n",
       "    </tr>\n",
       "    <tr>\n",
       "      <th>team_long_name</th>\n",
       "      <th></th>\n",
       "      <th></th>\n",
       "      <th></th>\n",
       "      <th></th>\n",
       "      <th></th>\n",
       "      <th></th>\n",
       "      <th></th>\n",
       "      <th></th>\n",
       "      <th></th>\n",
       "      <th></th>\n",
       "    </tr>\n",
       "  </thead>\n",
       "  <tbody>\n",
       "    <tr>\n",
       "      <td>1. FC Kaiserslautern</td>\n",
       "      <td>8350.0</td>\n",
       "      <td>51.166667</td>\n",
       "      <td>51.0</td>\n",
       "      <td>51.666667</td>\n",
       "      <td>47.166667</td>\n",
       "      <td>62.000000</td>\n",
       "      <td>59.666667</td>\n",
       "      <td>46.833333</td>\n",
       "      <td>52.833333</td>\n",
       "      <td>55.166667</td>\n",
       "    </tr>\n",
       "    <tr>\n",
       "      <td>1. FC Köln</td>\n",
       "      <td>8722.0</td>\n",
       "      <td>57.333333</td>\n",
       "      <td>50.0</td>\n",
       "      <td>61.166667</td>\n",
       "      <td>55.166667</td>\n",
       "      <td>41.666667</td>\n",
       "      <td>59.000000</td>\n",
       "      <td>45.000000</td>\n",
       "      <td>51.166667</td>\n",
       "      <td>60.833333</td>\n",
       "    </tr>\n",
       "  </tbody>\n",
       "</table>\n",
       "</div>"
      ],
      "text/plain": [
       "                      team_api_id  buildUpPlaySpeed  buildUpPlayDribbling  \\\n",
       "team_long_name                                                              \n",
       "1. FC Kaiserslautern       8350.0         51.166667                  51.0   \n",
       "1. FC Köln                 8722.0         57.333333                  50.0   \n",
       "\n",
       "                      buildUpPlayPassing  chanceCreationPassing  \\\n",
       "team_long_name                                                    \n",
       "1. FC Kaiserslautern           51.666667              47.166667   \n",
       "1. FC Köln                     61.166667              55.166667   \n",
       "\n",
       "                      chanceCreationCrossing  chanceCreationShooting  \\\n",
       "team_long_name                                                         \n",
       "1. FC Kaiserslautern               62.000000               59.666667   \n",
       "1. FC Köln                         41.666667               59.000000   \n",
       "\n",
       "                      defencePressure  defenceAggression  defenceTeamWidth  \n",
       "team_long_name                                                              \n",
       "1. FC Kaiserslautern        46.833333          52.833333         55.166667  \n",
       "1. FC Köln                  45.000000          51.166667         60.833333  "
      ]
     },
     "execution_count": 25,
     "metadata": {},
     "output_type": "execute_result"
    }
   ],
   "source": [
    "# Get The means of the team attributes to be ready for merging, this is going to be excellent to measure variables together\n",
    "mean_attr= team_attr.groupby(['team_long_name']).mean()\n",
    "mean_attr.head(2)"
   ]
  },
  {
   "cell_type": "markdown",
   "metadata": {
    "scrolled": true
   },
   "source": [
    "#### Leagues result dataset 'lge_id' columns drop and merge to mtch"
   ]
  },
  {
   "cell_type": "code",
   "execution_count": 26,
   "metadata": {},
   "outputs": [],
   "source": [
    "#drop columns in lge_id\n",
    "lge_id.drop(['league_id', 'season', 'stage', 'home_team_goal', 'away_team_goal'], axis = 1, inplace = True)"
   ]
  },
  {
   "cell_type": "code",
   "execution_count": 27,
   "metadata": {
    "scrolled": false
   },
   "outputs": [
    {
     "data": {
      "text/html": [
       "<div>\n",
       "<style scoped>\n",
       "    .dataframe tbody tr th:only-of-type {\n",
       "        vertical-align: middle;\n",
       "    }\n",
       "\n",
       "    .dataframe tbody tr th {\n",
       "        vertical-align: top;\n",
       "    }\n",
       "\n",
       "    .dataframe thead th {\n",
       "        text-align: right;\n",
       "    }\n",
       "</style>\n",
       "<table border=\"1\" class=\"dataframe\">\n",
       "  <thead>\n",
       "    <tr style=\"text-align: right;\">\n",
       "      <th></th>\n",
       "      <th>match_api_id</th>\n",
       "      <th>result</th>\n",
       "      <th>home_win</th>\n",
       "      <th>away_win</th>\n",
       "    </tr>\n",
       "  </thead>\n",
       "  <tbody>\n",
       "    <tr>\n",
       "      <td>0</td>\n",
       "      <td>492473</td>\n",
       "      <td>d</td>\n",
       "      <td>0</td>\n",
       "      <td>0</td>\n",
       "    </tr>\n",
       "    <tr>\n",
       "      <td>1</td>\n",
       "      <td>492474</td>\n",
       "      <td>d</td>\n",
       "      <td>0</td>\n",
       "      <td>0</td>\n",
       "    </tr>\n",
       "  </tbody>\n",
       "</table>\n",
       "</div>"
      ],
      "text/plain": [
       "   match_api_id result  home_win  away_win\n",
       "0        492473      d         0         0\n",
       "1        492474      d         0         0"
      ]
     },
     "execution_count": 27,
     "metadata": {},
     "output_type": "execute_result"
    }
   ],
   "source": [
    "lge_id.head(2)"
   ]
  },
  {
   "cell_type": "code",
   "execution_count": 28,
   "metadata": {},
   "outputs": [
    {
     "data": {
      "text/html": [
       "<div>\n",
       "<style scoped>\n",
       "    .dataframe tbody tr th:only-of-type {\n",
       "        vertical-align: middle;\n",
       "    }\n",
       "\n",
       "    .dataframe tbody tr th {\n",
       "        vertical-align: top;\n",
       "    }\n",
       "\n",
       "    .dataframe thead th {\n",
       "        text-align: right;\n",
       "    }\n",
       "</style>\n",
       "<table border=\"1\" class=\"dataframe\">\n",
       "  <thead>\n",
       "    <tr style=\"text-align: right;\">\n",
       "      <th></th>\n",
       "      <th>league_id</th>\n",
       "      <th>name</th>\n",
       "      <th>season</th>\n",
       "      <th>stage</th>\n",
       "      <th>match_api_id</th>\n",
       "      <th>home_short</th>\n",
       "      <th>home_long</th>\n",
       "      <th>away_short</th>\n",
       "      <th>away_long</th>\n",
       "      <th>home_team_goal</th>\n",
       "      <th>away_team_goal</th>\n",
       "      <th>result</th>\n",
       "      <th>home_win</th>\n",
       "      <th>away_win</th>\n",
       "    </tr>\n",
       "  </thead>\n",
       "  <tbody>\n",
       "    <tr>\n",
       "      <td>0</td>\n",
       "      <td>1</td>\n",
       "      <td>Belgium Jupiler League</td>\n",
       "      <td>2008/2009</td>\n",
       "      <td>1</td>\n",
       "      <td>492473</td>\n",
       "      <td>GEN</td>\n",
       "      <td>KRC Genk</td>\n",
       "      <td>BAC</td>\n",
       "      <td>Beerschot AC</td>\n",
       "      <td>1</td>\n",
       "      <td>1</td>\n",
       "      <td>d</td>\n",
       "      <td>0</td>\n",
       "      <td>0</td>\n",
       "    </tr>\n",
       "    <tr>\n",
       "      <td>1</td>\n",
       "      <td>1</td>\n",
       "      <td>Belgium Jupiler League</td>\n",
       "      <td>2008/2009</td>\n",
       "      <td>1</td>\n",
       "      <td>492474</td>\n",
       "      <td>ZUL</td>\n",
       "      <td>SV Zulte-Waregem</td>\n",
       "      <td>LOK</td>\n",
       "      <td>Sporting Lokeren</td>\n",
       "      <td>0</td>\n",
       "      <td>0</td>\n",
       "      <td>d</td>\n",
       "      <td>0</td>\n",
       "      <td>0</td>\n",
       "    </tr>\n",
       "  </tbody>\n",
       "</table>\n",
       "</div>"
      ],
      "text/plain": [
       "   league_id                    name     season  stage  match_api_id  \\\n",
       "0          1  Belgium Jupiler League  2008/2009      1        492473   \n",
       "1          1  Belgium Jupiler League  2008/2009      1        492474   \n",
       "\n",
       "  home_short         home_long away_short         away_long  home_team_goal  \\\n",
       "0        GEN          KRC Genk        BAC      Beerschot AC               1   \n",
       "1        ZUL  SV Zulte-Waregem        LOK  Sporting Lokeren               0   \n",
       "\n",
       "   away_team_goal result  home_win  away_win  \n",
       "0               1      d         0         0  \n",
       "1               0      d         0         0  "
      ]
     },
     "execution_count": 28,
     "metadata": {},
     "output_type": "execute_result"
    }
   ],
   "source": [
    "#merge the datasets\n",
    "df = mtch.merge(lge_id, left_on = 'match_api_id', right_on = 'match_api_id', how = 'inner')\n",
    "df.head(2)"
   ]
  },
  {
   "cell_type": "code",
   "execution_count": 29,
   "metadata": {},
   "outputs": [],
   "source": [
    "#drop unecessary columns\n",
    "df.drop(['league_id', 'match_api_id', 'home_short', 'away_short'], axis = 1, inplace = True)"
   ]
  },
  {
   "cell_type": "code",
   "execution_count": 30,
   "metadata": {
    "scrolled": true
   },
   "outputs": [
    {
     "data": {
      "text/html": [
       "<div>\n",
       "<style scoped>\n",
       "    .dataframe tbody tr th:only-of-type {\n",
       "        vertical-align: middle;\n",
       "    }\n",
       "\n",
       "    .dataframe tbody tr th {\n",
       "        vertical-align: top;\n",
       "    }\n",
       "\n",
       "    .dataframe thead th {\n",
       "        text-align: right;\n",
       "    }\n",
       "</style>\n",
       "<table border=\"1\" class=\"dataframe\">\n",
       "  <thead>\n",
       "    <tr style=\"text-align: right;\">\n",
       "      <th></th>\n",
       "      <th>name</th>\n",
       "      <th>season</th>\n",
       "      <th>stage</th>\n",
       "      <th>home_long</th>\n",
       "      <th>away_long</th>\n",
       "      <th>home_team_goal</th>\n",
       "      <th>away_team_goal</th>\n",
       "      <th>result</th>\n",
       "      <th>home_win</th>\n",
       "      <th>away_win</th>\n",
       "    </tr>\n",
       "  </thead>\n",
       "  <tbody>\n",
       "    <tr>\n",
       "      <td>0</td>\n",
       "      <td>Belgium Jupiler League</td>\n",
       "      <td>2008/2009</td>\n",
       "      <td>1</td>\n",
       "      <td>KRC Genk</td>\n",
       "      <td>Beerschot AC</td>\n",
       "      <td>1</td>\n",
       "      <td>1</td>\n",
       "      <td>d</td>\n",
       "      <td>0</td>\n",
       "      <td>0</td>\n",
       "    </tr>\n",
       "    <tr>\n",
       "      <td>1</td>\n",
       "      <td>Belgium Jupiler League</td>\n",
       "      <td>2008/2009</td>\n",
       "      <td>1</td>\n",
       "      <td>SV Zulte-Waregem</td>\n",
       "      <td>Sporting Lokeren</td>\n",
       "      <td>0</td>\n",
       "      <td>0</td>\n",
       "      <td>d</td>\n",
       "      <td>0</td>\n",
       "      <td>0</td>\n",
       "    </tr>\n",
       "  </tbody>\n",
       "</table>\n",
       "</div>"
      ],
      "text/plain": [
       "                     name     season  stage         home_long  \\\n",
       "0  Belgium Jupiler League  2008/2009      1          KRC Genk   \n",
       "1  Belgium Jupiler League  2008/2009      1  SV Zulte-Waregem   \n",
       "\n",
       "          away_long  home_team_goal  away_team_goal result  home_win  away_win  \n",
       "0      Beerschot AC               1               1      d         0         0  \n",
       "1  Sporting Lokeren               0               0      d         0         0  "
      ]
     },
     "execution_count": 30,
     "metadata": {},
     "output_type": "execute_result"
    }
   ],
   "source": [
    "df.head(2)"
   ]
  },
  {
   "cell_type": "markdown",
   "metadata": {},
   "source": [
    "#### Removing the duplicates\n",
    "I will remove the duplicates found in the player data"
   ]
  },
  {
   "cell_type": "code",
   "execution_count": 31,
   "metadata": {},
   "outputs": [],
   "source": [
    "#drop the duplicates, for good\n",
    "pl.drop_duplicates(inplace = True)"
   ]
  },
  {
   "cell_type": "code",
   "execution_count": 32,
   "metadata": {},
   "outputs": [
    {
     "data": {
      "text/plain": [
       "0"
      ]
     },
     "execution_count": 32,
     "metadata": {},
     "output_type": "execute_result"
    }
   ],
   "source": [
    "#Do another check\n",
    "pl.duplicated().sum()"
   ]
  },
  {
   "cell_type": "markdown",
   "metadata": {},
   "source": [
    "#### Now for making my subsets\n",
    "I want to have a dataset with the wins by each team along the seasons in order to be able to merge it with other data sets. Then in the EDA section, it will only be for plotting and reporting."
   ]
  },
  {
   "cell_type": "code",
   "execution_count": 33,
   "metadata": {},
   "outputs": [
    {
     "data": {
      "text/html": [
       "<div>\n",
       "<style scoped>\n",
       "    .dataframe tbody tr th:only-of-type {\n",
       "        vertical-align: middle;\n",
       "    }\n",
       "\n",
       "    .dataframe tbody tr th {\n",
       "        vertical-align: top;\n",
       "    }\n",
       "\n",
       "    .dataframe thead th {\n",
       "        text-align: right;\n",
       "    }\n",
       "</style>\n",
       "<table border=\"1\" class=\"dataframe\">\n",
       "  <thead>\n",
       "    <tr style=\"text-align: right;\">\n",
       "      <th></th>\n",
       "      <th>season</th>\n",
       "      <th>team</th>\n",
       "      <th>goals_scored</th>\n",
       "      <th>win</th>\n",
       "    </tr>\n",
       "  </thead>\n",
       "  <tbody>\n",
       "    <tr>\n",
       "      <td>0</td>\n",
       "      <td>2008/2009</td>\n",
       "      <td>KRC Genk</td>\n",
       "      <td>1</td>\n",
       "      <td>0</td>\n",
       "    </tr>\n",
       "    <tr>\n",
       "      <td>1</td>\n",
       "      <td>2008/2009</td>\n",
       "      <td>SV Zulte-Waregem</td>\n",
       "      <td>0</td>\n",
       "      <td>0</td>\n",
       "    </tr>\n",
       "  </tbody>\n",
       "</table>\n",
       "</div>"
      ],
      "text/plain": [
       "      season              team  goals_scored  win\n",
       "0  2008/2009          KRC Genk             1    0\n",
       "1  2008/2009  SV Zulte-Waregem             0    0"
      ]
     },
     "execution_count": 33,
     "metadata": {},
     "output_type": "execute_result"
    }
   ],
   "source": [
    "#create a dataset having wins and total goals scored\n",
    "#drop coloumns of the home data\n",
    "dfh = df.drop(['away_long', 'away_team_goal','stage', 'name', 'result','away_win'], axis = 1)\n",
    "#rename my columns\n",
    "dfh.rename(columns={\"home_long\": \"team\", \"home_team_goal\": \"goals_scored\", 'home_win':'win'}, inplace= True)\n",
    "dfh.head(2)"
   ]
  },
  {
   "cell_type": "code",
   "execution_count": 34,
   "metadata": {
    "scrolled": true
   },
   "outputs": [
    {
     "data": {
      "text/html": [
       "<div>\n",
       "<style scoped>\n",
       "    .dataframe tbody tr th:only-of-type {\n",
       "        vertical-align: middle;\n",
       "    }\n",
       "\n",
       "    .dataframe tbody tr th {\n",
       "        vertical-align: top;\n",
       "    }\n",
       "\n",
       "    .dataframe thead th {\n",
       "        text-align: right;\n",
       "    }\n",
       "</style>\n",
       "<table border=\"1\" class=\"dataframe\">\n",
       "  <thead>\n",
       "    <tr style=\"text-align: right;\">\n",
       "      <th></th>\n",
       "      <th>season</th>\n",
       "      <th>team</th>\n",
       "      <th>goals_scored</th>\n",
       "      <th>win</th>\n",
       "    </tr>\n",
       "  </thead>\n",
       "  <tbody>\n",
       "    <tr>\n",
       "      <td>0</td>\n",
       "      <td>2008/2009</td>\n",
       "      <td>Beerschot AC</td>\n",
       "      <td>1</td>\n",
       "      <td>0</td>\n",
       "    </tr>\n",
       "    <tr>\n",
       "      <td>1</td>\n",
       "      <td>2008/2009</td>\n",
       "      <td>Sporting Lokeren</td>\n",
       "      <td>0</td>\n",
       "      <td>0</td>\n",
       "    </tr>\n",
       "  </tbody>\n",
       "</table>\n",
       "</div>"
      ],
      "text/plain": [
       "      season              team  goals_scored  win\n",
       "0  2008/2009      Beerschot AC             1    0\n",
       "1  2008/2009  Sporting Lokeren             0    0"
      ]
     },
     "execution_count": 34,
     "metadata": {},
     "output_type": "execute_result"
    }
   ],
   "source": [
    "#drop coloumns of the away data\n",
    "dfa = df.drop(['home_long', 'home_team_goal','home_win','stage', 'name', 'result','home_win'], axis = 1)\n",
    "#rename my columns\n",
    "dfa.rename(columns={\"away_long\": \"team\", \"away_team_goal\": \"goals_scored\", 'away_win':'win'}, inplace= True)\n",
    "dfa.head(2)"
   ]
  },
  {
   "cell_type": "code",
   "execution_count": 35,
   "metadata": {},
   "outputs": [],
   "source": [
    "#merge my data\n",
    "df_1 = dfa.append(dfh)"
   ]
  },
  {
   "cell_type": "code",
   "execution_count": 36,
   "metadata": {},
   "outputs": [
    {
     "data": {
      "text/html": [
       "<div>\n",
       "<style scoped>\n",
       "    .dataframe tbody tr th:only-of-type {\n",
       "        vertical-align: middle;\n",
       "    }\n",
       "\n",
       "    .dataframe tbody tr th {\n",
       "        vertical-align: top;\n",
       "    }\n",
       "\n",
       "    .dataframe thead th {\n",
       "        text-align: right;\n",
       "    }\n",
       "</style>\n",
       "<table border=\"1\" class=\"dataframe\">\n",
       "  <thead>\n",
       "    <tr style=\"text-align: right;\">\n",
       "      <th></th>\n",
       "      <th>team</th>\n",
       "      <th>goals_scored</th>\n",
       "      <th>win</th>\n",
       "    </tr>\n",
       "  </thead>\n",
       "  <tbody>\n",
       "    <tr>\n",
       "      <td>0</td>\n",
       "      <td>1. FC Kaiserslautern</td>\n",
       "      <td>72</td>\n",
       "      <td>17</td>\n",
       "    </tr>\n",
       "    <tr>\n",
       "      <td>1</td>\n",
       "      <td>1. FC Köln</td>\n",
       "      <td>226</td>\n",
       "      <td>60</td>\n",
       "    </tr>\n",
       "  </tbody>\n",
       "</table>\n",
       "</div>"
      ],
      "text/plain": [
       "                   team  goals_scored  win\n",
       "0  1. FC Kaiserslautern            72   17\n",
       "1            1. FC Köln           226   60"
      ]
     },
     "execution_count": 36,
     "metadata": {},
     "output_type": "execute_result"
    }
   ],
   "source": [
    "df_1 = df_1.groupby(['team'], as_index = False).sum()\n",
    "df_1.head(2)"
   ]
  },
  {
   "cell_type": "code",
   "execution_count": 37,
   "metadata": {
    "scrolled": false
   },
   "outputs": [
    {
     "data": {
      "text/html": [
       "<div>\n",
       "<style scoped>\n",
       "    .dataframe tbody tr th:only-of-type {\n",
       "        vertical-align: middle;\n",
       "    }\n",
       "\n",
       "    .dataframe tbody tr th {\n",
       "        vertical-align: top;\n",
       "    }\n",
       "\n",
       "    .dataframe thead th {\n",
       "        text-align: right;\n",
       "    }\n",
       "</style>\n",
       "<table border=\"1\" class=\"dataframe\">\n",
       "  <thead>\n",
       "    <tr style=\"text-align: right;\">\n",
       "      <th></th>\n",
       "      <th>team_api_id</th>\n",
       "      <th>buildUpPlaySpeed</th>\n",
       "      <th>buildUpPlayDribbling</th>\n",
       "      <th>buildUpPlayPassing</th>\n",
       "      <th>chanceCreationPassing</th>\n",
       "      <th>chanceCreationCrossing</th>\n",
       "      <th>chanceCreationShooting</th>\n",
       "      <th>defencePressure</th>\n",
       "      <th>defenceAggression</th>\n",
       "      <th>defenceTeamWidth</th>\n",
       "      <th>team</th>\n",
       "      <th>goals_scored</th>\n",
       "      <th>win</th>\n",
       "    </tr>\n",
       "  </thead>\n",
       "  <tbody>\n",
       "    <tr>\n",
       "      <td>0</td>\n",
       "      <td>8350.0</td>\n",
       "      <td>51.166667</td>\n",
       "      <td>51.0</td>\n",
       "      <td>51.666667</td>\n",
       "      <td>47.166667</td>\n",
       "      <td>62.000000</td>\n",
       "      <td>59.666667</td>\n",
       "      <td>46.833333</td>\n",
       "      <td>52.833333</td>\n",
       "      <td>55.166667</td>\n",
       "      <td>1. FC Kaiserslautern</td>\n",
       "      <td>72</td>\n",
       "      <td>17</td>\n",
       "    </tr>\n",
       "    <tr>\n",
       "      <td>1</td>\n",
       "      <td>8722.0</td>\n",
       "      <td>57.333333</td>\n",
       "      <td>50.0</td>\n",
       "      <td>61.166667</td>\n",
       "      <td>55.166667</td>\n",
       "      <td>41.666667</td>\n",
       "      <td>59.000000</td>\n",
       "      <td>45.000000</td>\n",
       "      <td>51.166667</td>\n",
       "      <td>60.833333</td>\n",
       "      <td>1. FC Köln</td>\n",
       "      <td>226</td>\n",
       "      <td>60</td>\n",
       "    </tr>\n",
       "  </tbody>\n",
       "</table>\n",
       "</div>"
      ],
      "text/plain": [
       "   team_api_id  buildUpPlaySpeed  buildUpPlayDribbling  buildUpPlayPassing  \\\n",
       "0       8350.0         51.166667                  51.0           51.666667   \n",
       "1       8722.0         57.333333                  50.0           61.166667   \n",
       "\n",
       "   chanceCreationPassing  chanceCreationCrossing  chanceCreationShooting  \\\n",
       "0              47.166667               62.000000               59.666667   \n",
       "1              55.166667               41.666667               59.000000   \n",
       "\n",
       "   defencePressure  defenceAggression  defenceTeamWidth                  team  \\\n",
       "0        46.833333          52.833333         55.166667  1. FC Kaiserslautern   \n",
       "1        45.000000          51.166667         60.833333            1. FC Köln   \n",
       "\n",
       "   goals_scored  win  \n",
       "0            72   17  \n",
       "1           226   60  "
      ]
     },
     "execution_count": 37,
     "metadata": {},
     "output_type": "execute_result"
    }
   ],
   "source": [
    "combined = mean_attr.merge(df_1, left_on = 'team_long_name', right_on = 'team', how = 'inner')\n",
    "combined.head(2)"
   ]
  },
  {
   "cell_type": "markdown",
   "metadata": {},
   "source": [
    "<a id='eda'></a>\n",
    "## Exploratory Data Analysis and Conclusions\n",
    "\n",
    "Now that I made all the necessary cleansing to my data I can start my EDA process. Questions being posed here will analyze results I have gathered in order to build a nice, structured analytical report\n",
    "\n",
    "### Q1: How many stages (matches each team played) were played in each league for each season?\n",
    "\n",
    "In Europe, leagues do not have a fixed number of teams in the table, one league can have 20 teams and another has 18. This is strictly due to league brand, budget restrictions, UEFA regulations, and many more reasons, it will be quite beneficial to understand the intensity of each league on a single team. Specially if this team is involved in any other international competition (such as UEFA Champions league). "
   ]
  },
  {
   "cell_type": "code",
   "execution_count": 38,
   "metadata": {
    "scrolled": true
   },
   "outputs": [
    {
     "data": {
      "text/html": [
       "<div>\n",
       "<style scoped>\n",
       "    .dataframe tbody tr th:only-of-type {\n",
       "        vertical-align: middle;\n",
       "    }\n",
       "\n",
       "    .dataframe tbody tr th {\n",
       "        vertical-align: top;\n",
       "    }\n",
       "\n",
       "    .dataframe thead th {\n",
       "        text-align: right;\n",
       "    }\n",
       "</style>\n",
       "<table border=\"1\" class=\"dataframe\">\n",
       "  <thead>\n",
       "    <tr style=\"text-align: right;\">\n",
       "      <th></th>\n",
       "      <th></th>\n",
       "      <th>matches</th>\n",
       "    </tr>\n",
       "    <tr>\n",
       "      <th>name</th>\n",
       "      <th>season</th>\n",
       "      <th></th>\n",
       "    </tr>\n",
       "  </thead>\n",
       "  <tbody>\n",
       "    <tr>\n",
       "      <td rowspan=\"2\" valign=\"top\">Belgium Jupiler League</td>\n",
       "      <td>2008/2009</td>\n",
       "      <td>34</td>\n",
       "    </tr>\n",
       "    <tr>\n",
       "      <td>2009/2010</td>\n",
       "      <td>30</td>\n",
       "    </tr>\n",
       "  </tbody>\n",
       "</table>\n",
       "</div>"
      ],
      "text/plain": [
       "                                  matches\n",
       "name                   season            \n",
       "Belgium Jupiler League 2008/2009       34\n",
       "                       2009/2010       30"
      ]
     },
     "execution_count": 38,
     "metadata": {},
     "output_type": "execute_result"
    }
   ],
   "source": [
    "#grouping 'chk' dataset\n",
    "chk_1 = chk.groupby(['name','season']).sum()\n",
    "chk_1.head(2)"
   ]
  },
  {
   "cell_type": "markdown",
   "metadata": {},
   "source": [
    "I added a feature from the link below to let the legend appear out of the chart\n",
    "https://stackoverflow.com/questions/23556153/how-to-put-legend-outside-the-plot-with-pandas"
   ]
  },
  {
   "cell_type": "code",
   "execution_count": 39,
   "metadata": {},
   "outputs": [
    {
     "data": {
      "image/png": "[encoded data removed]",
      "text/plain": [
       "<Figure size 720x360 with 1 Axes>"
      ]
     },
     "metadata": {
      "needs_background": "light"
     },
     "output_type": "display_data"
    }
   ],
   "source": [
    "#plot the findings\n",
    "chk_1.unstack().plot(kind = 'bar', figsize = (10,5), legend = False);\n",
    "plt.legend(loc='center left', bbox_to_anchor=(1, 0.5));"
   ]
  },
  {
   "cell_type": "markdown",
   "metadata": {},
   "source": [
    "5 leagues have 38 stages per season which are the top demanding leagues for any given club. The Belgium Jpiler League changed the number of teams per league season after 2008/2009 season, that is why you see the values as less, also the data seems to be missing matches from the 2014/2015 season. According to https://www.fctables.com/belgium/jupiler-league/2010_2011/. Also the same happened with Portugal Liga ZON Sagres, as they changed the number of teams in the league per season starting from 2014/2015 season."
   ]
  },
  {
   "cell_type": "markdown",
   "metadata": {},
   "source": [
    "### Q2: How does the team attributes reflect on the number of wins achieved?\n",
    "Attributes here are one variable each compared to our main variable that concerns any team, the number of won matches!\n",
    "Here I will disregard one attribute, the 'buildUpPlayDribbling', as it would be unfair comparison given that already two thirds of the data is not there and interpreting them on an average or based on class will not bring in accuracy to the analysis"
   ]
  },
  {
   "cell_type": "code",
   "execution_count": 40,
   "metadata": {},
   "outputs": [],
   "source": [
    "#add variables as arrays to make the scatter\n",
    "a = combined['chanceCreationShooting']\n",
    "b = combined['chanceCreationCrossing']\n",
    "c = combined['chanceCreationPassing']\n",
    "d = combined['win']\n",
    "x = combined['buildUpPlaySpeed']\n",
    "m = combined['buildUpPlayPassing']\n",
    "f = combined['defencePressure']\n",
    "g = combined['defenceAggression']\n",
    "h = combined['defenceTeamWidth']"
   ]
  },
  {
   "cell_type": "markdown",
   "metadata": {},
   "source": [
    "use this guide https://towardsdatascience.com/subplots-in-matplotlib-a-guide-and-tool-for-planning-your-plots-7d63fa632857"
   ]
  },
  {
   "cell_type": "code",
   "execution_count": 41,
   "metadata": {},
   "outputs": [
    {
     "data": {
      "image/png": "[encoded data removed]",
      "text/plain": [
       "<Figure size 432x288 with 8 Axes>"
      ]
     },
     "metadata": {
      "needs_background": "light"
     },
     "output_type": "display_data"
    }
   ],
   "source": [
    "#plot the scatter\n",
    "plt.subplot(421)\n",
    "plt.scatter(a, d)\n",
    "plt.xlabel('chance creation - shooting')\n",
    "plt.ylabel('wins')\n",
    "z = np.polyfit(a, d, 1)\n",
    "p = np.poly1d(z)\n",
    "plt.plot(a,p(a),\"r--\")\n",
    "\n",
    "plt.subplot(422)\n",
    "plt.scatter(b, d)\n",
    "plt.xlabel('chance creation - crossing')\n",
    "plt.ylabel('wins')\n",
    "z = np.polyfit(b, d, 1)\n",
    "p = np.poly1d(z)\n",
    "plt.plot(b,p(b),\"r--\")\n",
    "\n",
    "plt.subplot(423)\n",
    "plt.scatter(c, d)\n",
    "plt.xlabel('chance creation - passing')\n",
    "plt.ylabel('wins')\n",
    "z = np.polyfit(c, d, 1)\n",
    "p = np.poly1d(z)\n",
    "plt.plot(c,p(c),\"r--\")\n",
    "\n",
    "plt.subplot(424)\n",
    "plt.scatter(x, d)\n",
    "plt.xlabel('build up - speed')\n",
    "plt.ylabel('wins')\n",
    "z = np.polyfit(x, d, 1)\n",
    "p = np.poly1d(z)\n",
    "plt.plot(x,p(x),\"r--\")\n",
    "\n",
    "plt.subplot(425)\n",
    "plt.scatter(m, d)\n",
    "plt.xlabel('build up - passing')\n",
    "plt.ylabel('wins')\n",
    "z = np.polyfit(m, d, 1)\n",
    "p = np.poly1d(z)\n",
    "plt.plot(m,p(m),\"r--\")\n",
    "\n",
    "plt.subplot(426)\n",
    "plt.scatter(f, d)\n",
    "plt.xlabel('defence pressure')\n",
    "plt.ylabel('wins')\n",
    "z = np.polyfit(f, d, 1)\n",
    "p = np.poly1d(z)\n",
    "plt.plot(f,p(f),\"r--\")\n",
    "\n",
    "plt.subplot(427)\n",
    "plt.scatter(g, d)\n",
    "plt.xlabel('defence aggression')\n",
    "plt.ylabel('wins')\n",
    "z = np.polyfit(g, d, 1)\n",
    "p = np.poly1d(z)\n",
    "plt.plot(g,p(g),\"r--\")\n",
    "\n",
    "plt.subplot(428)\n",
    "plt.scatter(g, d)\n",
    "plt.xlabel('defence width')\n",
    "plt.ylabel('wins')\n",
    "z = np.polyfit(g, d, 1)\n",
    "p = np.poly1d(z)\n",
    "plt.plot(g,p(g),\"r--\")\n",
    "\n",
    "plt.tight_layout()\n",
    "plt.show()"
   ]
  },
  {
   "cell_type": "markdown",
   "metadata": {},
   "source": [
    "Comparison of the selected team attributes to the total wins achieved show a set of conclusions. There is a positive correlation between attributes and wins, the only difference is that the buildup passing range has a negative correlation with the wins. we can say that the teams who create many chances, speedy buildup and defend in aggression and constant pressure do have the tendency to win matches, as long as to always make sure that their buildup passing range stay in the short side and not attempt long range passing and spread out all over the pitch."
   ]
  },
  {
   "cell_type": "markdown",
   "metadata": {},
   "source": [
    "### Q3: Which teams had the most wins and goals scored?\n",
    "Ranking the top 10 teams, the number of wins is the main to order by, and how many goals scored is followed.\n",
    "https://pandas.pydata.org/pandas-docs/version/0.17.0/generated/pandas.DataFrame.nlargest.html"
   ]
  },
  {
   "cell_type": "code",
   "execution_count": 42,
   "metadata": {
    "scrolled": true
   },
   "outputs": [
    {
     "data": {
      "text/html": [
       "<div>\n",
       "<style scoped>\n",
       "    .dataframe tbody tr th:only-of-type {\n",
       "        vertical-align: middle;\n",
       "    }\n",
       "\n",
       "    .dataframe tbody tr th {\n",
       "        vertical-align: top;\n",
       "    }\n",
       "\n",
       "    .dataframe thead th {\n",
       "        text-align: right;\n",
       "    }\n",
       "</style>\n",
       "<table border=\"1\" class=\"dataframe\">\n",
       "  <thead>\n",
       "    <tr style=\"text-align: right;\">\n",
       "      <th></th>\n",
       "      <th>team</th>\n",
       "      <th>goals_scored</th>\n",
       "      <th>win</th>\n",
       "    </tr>\n",
       "  </thead>\n",
       "  <tbody>\n",
       "    <tr>\n",
       "      <td>75</td>\n",
       "      <td>FC Barcelona</td>\n",
       "      <td>849</td>\n",
       "      <td>234</td>\n",
       "    </tr>\n",
       "    <tr>\n",
       "      <td>211</td>\n",
       "      <td>Real Madrid CF</td>\n",
       "      <td>843</td>\n",
       "      <td>228</td>\n",
       "    </tr>\n",
       "    <tr>\n",
       "      <td>49</td>\n",
       "      <td>Celtic</td>\n",
       "      <td>695</td>\n",
       "      <td>218</td>\n",
       "    </tr>\n",
       "    <tr>\n",
       "      <td>77</td>\n",
       "      <td>FC Bayern Munich</td>\n",
       "      <td>653</td>\n",
       "      <td>193</td>\n",
       "    </tr>\n",
       "    <tr>\n",
       "      <td>162</td>\n",
       "      <td>Manchester United</td>\n",
       "      <td>582</td>\n",
       "      <td>192</td>\n",
       "    </tr>\n",
       "    <tr>\n",
       "      <td>133</td>\n",
       "      <td>Juventus</td>\n",
       "      <td>543</td>\n",
       "      <td>189</td>\n",
       "    </tr>\n",
       "    <tr>\n",
       "      <td>232</td>\n",
       "      <td>SL Benfica</td>\n",
       "      <td>568</td>\n",
       "      <td>185</td>\n",
       "    </tr>\n",
       "    <tr>\n",
       "      <td>89</td>\n",
       "      <td>FC Porto</td>\n",
       "      <td>541</td>\n",
       "      <td>183</td>\n",
       "    </tr>\n",
       "    <tr>\n",
       "      <td>15</td>\n",
       "      <td>Ajax</td>\n",
       "      <td>647</td>\n",
       "      <td>181</td>\n",
       "    </tr>\n",
       "    <tr>\n",
       "      <td>76</td>\n",
       "      <td>FC Basel</td>\n",
       "      <td>619</td>\n",
       "      <td>180</td>\n",
       "    </tr>\n",
       "  </tbody>\n",
       "</table>\n",
       "</div>"
      ],
      "text/plain": [
       "                  team  goals_scored  win\n",
       "75        FC Barcelona           849  234\n",
       "211     Real Madrid CF           843  228\n",
       "49              Celtic           695  218\n",
       "77    FC Bayern Munich           653  193\n",
       "162  Manchester United           582  192\n",
       "133           Juventus           543  189\n",
       "232         SL Benfica           568  185\n",
       "89            FC Porto           541  183\n",
       "15                Ajax           647  181\n",
       "76            FC Basel           619  180"
      ]
     },
     "execution_count": 42,
     "metadata": {},
     "output_type": "execute_result"
    }
   ],
   "source": [
    "top = df_1.nlargest(10,['win','goals_scored'])\n",
    "top"
   ]
  },
  {
   "cell_type": "markdown",
   "metadata": {},
   "source": [
    "Teams who score more will have the tendency to win more, these are the top ranked teams accross europe. FC Barcelona an Real Madrid look the most successful teams of all throughout the seasons, leaving a trail of more than 140 goals between them and the next top ranked, Celtic."
   ]
  },
  {
   "cell_type": "markdown",
   "metadata": {},
   "source": [
    "### Q4: How does the height and weight distribution look like for players in the European league?"
   ]
  },
  {
   "cell_type": "markdown",
   "metadata": {},
   "source": [
    "In order to see the distribution, a histogram for the height and weight needed. I used the below linkes to draw the mean line.\n",
    "https://stackoverflow.com/questions/16180946/drawing-average-line-in-histogram-matplotlib"
   ]
  },
  {
   "cell_type": "code",
   "execution_count": 43,
   "metadata": {
    "scrolled": false
   },
   "outputs": [
    {
     "data": {
      "image/png": "[encoded data removed]",
      "text/plain": [
       "<Figure size 432x288 with 1 Axes>"
      ]
     },
     "metadata": {
      "needs_background": "light"
     },
     "output_type": "display_data"
    }
   ],
   "source": [
    "plt.hist(pl['height']);\n",
    "plt.axvline(pl.mean()['height'], color='k', linestyle='dashed', linewidth=1);"
   ]
  },
  {
   "cell_type": "code",
   "execution_count": 44,
   "metadata": {
    "scrolled": true
   },
   "outputs": [
    {
     "data": {
      "image/png": "[encoded data removed]",
      "text/plain": [
       "<Figure size 432x288 with 1 Axes>"
      ]
     },
     "metadata": {
      "needs_background": "light"
     },
     "output_type": "display_data"
    }
   ],
   "source": [
    "plt.hist(pl['weight']);\n",
    "plt.axvline(pl.mean()['weight'], color='k', linestyle='dashed', linewidth=1);"
   ]
  },
  {
   "cell_type": "code",
   "execution_count": 45,
   "metadata": {
    "scrolled": true
   },
   "outputs": [
    {
     "data": {
      "text/plain": [
       "height    181.866573\n",
       "weight     76.374563\n",
       "dtype: float64"
      ]
     },
     "execution_count": 45,
     "metadata": {},
     "output_type": "execute_result"
    }
   ],
   "source": [
    "#Just extracting the means here\n",
    "pl.mean()"
   ]
  },
  {
   "cell_type": "markdown",
   "metadata": {},
   "source": [
    "Both histograms show a normally distributed histogram. According to https://www.disabled-world.com/calculators-charts/height-chart.php, the average male height in Europe is 177 cm which is less that the average height of the European leagues in hand. The same can be said about the average weight in Europe, which is 71 kg according to https://www.medicalnewstoday.com/articles/320917.php#average-weight-of-men-in-the-us, this is around 5 kgs less than my findings.\n",
    "\n",
    "We can account this variation to 2 factors, atheletes have a different body structure than the average, and more importantly, these leagues have different players from different other nations and continents."
   ]
  },
  {
   "cell_type": "markdown",
   "metadata": {},
   "source": [
    "I would like to acknowledge the work fond in the below link for giving me influence about the work in this project\n",
    "https://www.kaggle.com/pavanraj159/european-football-data-analysis"
   ]
  }
 ],
 "metadata": {
  "kernelspec": {
   "display_name": "Python 3",
   "language": "python",
   "name": "python3"
  },
  "language_info": {
   "codemirror_mode": {
    "name": "ipython",
    "version": 3
   },
   "file_extension": ".py",
   "mimetype": "text/x-python",
   "name": "python",
   "nbconvert_exporter": "python",
   "pygments_lexer": "ipython3",
   "version": "3.7.4"
  }
 },
 "nbformat": 4,
 "nbformat_minor": 2
}
